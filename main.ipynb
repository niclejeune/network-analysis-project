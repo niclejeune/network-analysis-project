{
 "cells": [
  {
   "metadata": {
    "ExecuteTime": {
     "end_time": "2024-11-26T12:18:38.790244Z",
     "start_time": "2024-11-26T12:18:38.513591Z"
    }
   },
   "cell_type": "code",
   "source": [
    "# 1. Import Necessary Packages\n",
    "import networkx as nx\n",
    "import numpy as np\n",
    "import random\n",
    "import community.community_louvain as community_louvain\n",
    "from scipy.stats import ttest_ind, f_oneway\n",
    "from typing import List, Tuple, Dict\n",
    "import matplotlib.pyplot as plt"
   ],
   "id": "7979b14457cb2c5d",
   "outputs": [],
   "execution_count": 21
  },
  {
   "metadata": {
    "ExecuteTime": {
     "end_time": "2024-11-26T12:14:12.093129Z",
     "start_time": "2024-11-26T12:14:12.078287Z"
    }
   },
   "cell_type": "code",
   "source": [
    "# 2. Load Data and Construct Graph\n",
    "def load_edges(filename: str) -> List[Tuple[int, int]]:\n",
    "    edges = []\n",
    "    with open(filename, 'r') as file:\n",
    "        for line in file:\n",
    "            parts = line.strip().split()\n",
    "            if len(parts) == 2:\n",
    "                source, target = map(int, parts)\n",
    "                edges.append((source, target))\n",
    "    return edges\n",
    "\n",
    "def construct_graph(edges: List[Tuple[int, int]], ego_node: int) -> nx.Graph:\n",
    "    G = nx.Graph()\n",
    "    G.add_node(ego_node)\n",
    "    G.add_edges_from(edges)\n",
    "    return G\n",
    "\n",
    "node_id = 0  # TODO: Create script to do this for all ids\n",
    "edges_file = f\"data/{node_id}.edges\"\n",
    "edges = load_edges(edges_file)\n",
    "G = construct_graph(edges, ego_node=node_id)"
   ],
   "id": "fd1b93b88c37a66f",
   "outputs": [],
   "execution_count": 3
  },
  {
   "metadata": {
    "ExecuteTime": {
     "end_time": "2024-11-26T12:14:13.362352Z",
     "start_time": "2024-11-26T12:14:13.073776Z"
    }
   },
   "cell_type": "code",
   "source": [
    "# 3. Calculate Node Properties\n",
    "degrees = dict(G.degree())\n",
    "clustering_coeffs = nx.clustering(G)\n",
    "betweenness = nx.betweenness_centrality(G)\n",
    "closeness = nx.closeness_centrality(G)"
   ],
   "id": "60a315e5b29541d2",
   "outputs": [],
   "execution_count": 4
  },
  {
   "metadata": {
    "ExecuteTime": {
     "end_time": "2024-11-26T12:14:13.594543Z",
     "start_time": "2024-11-26T12:14:13.555985Z"
    }
   },
   "cell_type": "code",
   "source": [
    "# 4. Perform Community Detection Using Louvain Algorithm\n",
    "partition = community_louvain.best_partition(G)"
   ],
   "id": "38cd65c5419579b3",
   "outputs": [],
   "execution_count": 5
  },
  {
   "metadata": {
    "ExecuteTime": {
     "end_time": "2024-11-26T12:14:22.505740Z",
     "start_time": "2024-11-26T12:14:22.464673Z"
    }
   },
   "cell_type": "code",
   "source": [
    "# 5. Calculate Average Clustering Coefficient Within Communities\n",
    "def calculate_community_clustering(graph: nx.Graph, partition: Dict[int, int]) -> Dict[int, float]:\n",
    "    community_clustering = {}\n",
    "    communities = {}\n",
    "    for node, community_id in partition.items():\n",
    "        communities.setdefault(community_id, []).append(node)\n",
    "    for community_id, nodes in communities.items():\n",
    "        subgraph = graph.subgraph(nodes)\n",
    "        clustering_coeffs = nx.clustering(subgraph)\n",
    "        avg_clustering = sum(clustering_coeffs.values()) / len(clustering_coeffs)\n",
    "        community_clustering[community_id] = avg_clustering\n",
    "    return community_clustering\n",
    "\n",
    "community_clustering = calculate_community_clustering(G, partition)"
   ],
   "id": "1bd2a96cc58f31fb",
   "outputs": [],
   "execution_count": 6
  },
  {
   "metadata": {
    "ExecuteTime": {
     "end_time": "2024-11-26T12:14:28.224570Z",
     "start_time": "2024-11-26T12:14:28.196145Z"
    }
   },
   "cell_type": "code",
   "source": [
    "# 6. Identify Highly Clustered Communities\n",
    "network_avg_clustering = nx.average_clustering(G)\n",
    "\n",
    "def get_highly_clustered_communities(community_clustering: Dict[int, float], network_avg_clustering: float) -> List[int]:\n",
    "    highly_clustered_communities = [community_id for community_id, avg_clustering in community_clustering.items()\n",
    "                                    if avg_clustering > network_avg_clustering]\n",
    "    return highly_clustered_communities\n",
    "\n",
    "highly_clustered_communities = get_highly_clustered_communities(community_clustering, network_avg_clustering)\n",
    "print(f\"Network Average Clustering Coefficient: {network_avg_clustering:.4f}\")\n",
    "print(f\"Highly Clustered Communities: {highly_clustered_communities}\")"
   ],
   "id": "b73d2f6511406fd5",
   "outputs": [
    {
     "name": "stdout",
     "output_type": "stream",
     "text": [
      "Network Average Clustering Coefficient: 0.5067\n",
      "Highly Clustered Communities: [1, 2, 3, 10, 7, 8, 9, 13]\n"
     ]
    }
   ],
   "execution_count": 7
  },
  {
   "metadata": {
    "ExecuteTime": {
     "end_time": "2024-11-26T12:14:34.915741Z",
     "start_time": "2024-11-26T12:14:34.911169Z"
    }
   },
   "cell_type": "code",
   "source": [
    "# 7. Identify High-Degree Nodes (Top 10%)\n",
    "def get_high_degree_nodes(degrees: Dict[int, int], percentile: float = 90) -> List[int]:\n",
    "    degree_values = list(degrees.values())\n",
    "    threshold = np.percentile(degree_values, percentile)\n",
    "    high_degree_nodes = [node for node, degree in degrees.items() if degree >= threshold]\n",
    "    return high_degree_nodes\n",
    "\n",
    "high_degree_nodes = get_high_degree_nodes(degrees, percentile=90)\n",
    "print(f\"High-Degree Nodes (Top 10%): {high_degree_nodes}\")"
   ],
   "id": "39d140e89f835ff5",
   "outputs": [
    {
     "name": "stdout",
     "output_type": "stream",
     "text": [
      "High-Degree Nodes (Top 10%): [186, 122, 285, 271, 304, 9, 213, 252, 332, 26, 280, 272, 199, 239, 172, 322, 170, 56, 188, 315, 119, 323, 200, 98, 67, 325, 277, 21, 169, 142, 203, 261, 25, 40, 113]\n"
     ]
    }
   ],
   "execution_count": 8
  },
  {
   "metadata": {
    "ExecuteTime": {
     "end_time": "2024-11-26T12:14:39.243312Z",
     "start_time": "2024-11-26T12:14:39.240298Z"
    }
   },
   "cell_type": "code",
   "source": [
    "# 8. Identify Bridge Nodes\n",
    "def get_bridge_nodes(high_degree_nodes: List[int], partition: Dict[int, int], highly_clustered_communities: List[int]) -> List[int]:\n",
    "    bridge_nodes = [node for node in high_degree_nodes if partition.get(node) in highly_clustered_communities]\n",
    "    return bridge_nodes\n",
    "\n",
    "bridge_nodes = get_bridge_nodes(high_degree_nodes, partition, highly_clustered_communities)\n",
    "print(f\"Bridge Nodes: {bridge_nodes}\")"
   ],
   "id": "8d6b9c9ca7b1b322",
   "outputs": [
    {
     "name": "stdout",
     "output_type": "stream",
     "text": [
      "Bridge Nodes: [186, 122, 285, 271, 304, 9, 252, 332, 26, 280, 272, 199, 239, 172, 322, 170, 56, 188, 315, 323, 200, 98, 67, 325, 277, 21, 169, 142, 203, 261, 25, 40, 113]\n"
     ]
    }
   ],
   "execution_count": 9
  },
  {
   "metadata": {
    "ExecuteTime": {
     "end_time": "2024-11-26T12:14:45.368878Z",
     "start_time": "2024-11-26T12:14:45.360185Z"
    }
   },
   "cell_type": "code",
   "source": [
    "# 9. Identify High-Degree Nodes Not in Highly Clustered Communities\n",
    "def get_high_degree_nodes_not_in_highly_clustered_communities(high_degree_nodes: List[int], partition: Dict[int, int], highly_clustered_communities: List[int]) -> List[int]:\n",
    "    nodes = [node for node in high_degree_nodes if partition.get(node) not in highly_clustered_communities]\n",
    "    return nodes\n",
    "\n",
    "high_degree_nodes_not_in_hcc = get_high_degree_nodes_not_in_highly_clustered_communities(high_degree_nodes, partition, highly_clustered_communities)\n",
    "print(f\"High-Degree Nodes Not in Highly Clustered Communities: {high_degree_nodes_not_in_hcc}\")"
   ],
   "id": "bbad43d86ff32945",
   "outputs": [
    {
     "name": "stdout",
     "output_type": "stream",
     "text": [
      "High-Degree Nodes Not in Highly Clustered Communities: [213, 119]\n"
     ]
    }
   ],
   "execution_count": 11
  },
  {
   "metadata": {
    "ExecuteTime": {
     "end_time": "2024-11-26T12:14:51.171465Z",
     "start_time": "2024-11-26T12:14:51.166974Z"
    }
   },
   "cell_type": "code",
   "source": [
    "# 10. Select Random Nodes\n",
    "def get_random_nodes(graph: nx.Graph, num_nodes: int) -> List[int]:\n",
    "    return random.sample(list(graph.nodes()), num_nodes)\n",
    "\n",
    "num_bridge_nodes = len(bridge_nodes)\n",
    "random_nodes = get_random_nodes(G, num_bridge_nodes)\n",
    "print(f\"Random Nodes: {random_nodes}\")"
   ],
   "id": "8a2e4ae8a0f29bbc",
   "outputs": [
    {
     "name": "stdout",
     "output_type": "stream",
     "text": [
      "Random Nodes: [186, 203, 9, 149, 244, 258, 177, 80, 231, 40, 324, 230, 262, 146, 269, 10, 317, 246, 94, 118, 66, 34, 314, 245, 252, 256, 278, 291, 295, 212, 266, 325, 158]\n"
     ]
    }
   ],
   "execution_count": 12
  },
  {
   "metadata": {
    "ExecuteTime": {
     "end_time": "2024-11-26T12:14:56.343490Z",
     "start_time": "2024-11-26T12:14:56.335230Z"
    }
   },
   "cell_type": "code",
   "source": [
    "# 11. Define the Independent Cascade Model Function\n",
    "def independent_cascade(graph: nx.Graph, seeds: List[int], propagation_prob: float = 0.1, max_steps: int = None) -> List[int]:\n",
    "    activated_nodes = set(seeds)\n",
    "    newly_activated_nodes = set(seeds)\n",
    "    steps = 0\n",
    "    while newly_activated_nodes and (max_steps is None or steps < max_steps):\n",
    "        steps += 1\n",
    "        next_newly_activated = set()\n",
    "        for node in newly_activated_nodes:\n",
    "            neighbors = set(graph.neighbors(node)) - activated_nodes\n",
    "            for neighbor in neighbors:\n",
    "                if random.random() <= propagation_prob:\n",
    "                    next_newly_activated.add(neighbor)\n",
    "                    activated_nodes.add(neighbor)\n",
    "        newly_activated_nodes = next_newly_activated\n",
    "    return list(activated_nodes)"
   ],
   "id": "309dea8de502b764",
   "outputs": [],
   "execution_count": 13
  },
  {
   "metadata": {
    "ExecuteTime": {
     "end_time": "2024-11-26T12:15:02.054385Z",
     "start_time": "2024-11-26T12:15:02.050366Z"
    }
   },
   "cell_type": "code",
   "source": [
    "# 12. Define Simulation Function\n",
    "def simulate_spread(graph: nx.Graph, seed_nodes: List[int], num_simulations: int = 100, propagation_prob: float = 0.1) -> Dict[int, List[int]]:\n",
    "    results = {}\n",
    "    for seed in seed_nodes:\n",
    "        spread_sizes = []\n",
    "        for _ in range(num_simulations):\n",
    "            activated_nodes = independent_cascade(graph, seeds=[seed], propagation_prob=propagation_prob)\n",
    "            spread_sizes.append(len(activated_nodes))\n",
    "        results[seed] = spread_sizes\n",
    "    return results"
   ],
   "id": "ead0db0e81be31fe",
   "outputs": [],
   "execution_count": 14
  },
  {
   "metadata": {
    "ExecuteTime": {
     "end_time": "2024-11-26T12:15:08.941119Z",
     "start_time": "2024-11-26T12:15:06.918927Z"
    }
   },
   "cell_type": "code",
   "source": [
    "# 13. Simulate Spread for Each Group\n",
    "num_simulations = 100\n",
    "propagation_prob = 0.1\n",
    "\n",
    "# Simulate spread for bridge nodes\n",
    "bridge_results = simulate_spread(G, bridge_nodes, num_simulations=num_simulations, propagation_prob=propagation_prob)\n",
    "\n",
    "# Simulate spread for high-degree nodes not in HCC\n",
    "high_degree_results = simulate_spread(G, high_degree_nodes_not_in_hcc, num_simulations=num_simulations, propagation_prob=propagation_prob)\n",
    "\n",
    "# Simulate spread for random nodes\n",
    "random_results = simulate_spread(G, random_nodes, num_simulations=num_simulations, propagation_prob=propagation_prob)"
   ],
   "id": "5302981b3ba53cf6",
   "outputs": [],
   "execution_count": 15
  },
  {
   "metadata": {
    "ExecuteTime": {
     "end_time": "2024-11-26T12:15:52.649525Z",
     "start_time": "2024-11-26T12:15:52.646392Z"
    }
   },
   "cell_type": "code",
   "source": [
    "# 14. Collect Spread Sizes\n",
    "def collect_spread_sizes(results: Dict[int, List[int]]) -> List[int]:\n",
    "    spread_sizes = []\n",
    "    for sizes in results.values():\n",
    "        spread_sizes.extend(sizes)\n",
    "    return spread_sizes\n",
    "\n",
    "bridge_spread_sizes = collect_spread_sizes(bridge_results)\n",
    "high_degree_spread_sizes = collect_spread_sizes(high_degree_results)\n",
    "random_spread_sizes = collect_spread_sizes(random_results)"
   ],
   "id": "12a30d5fa978f8fb",
   "outputs": [],
   "execution_count": 17
  },
  {
   "metadata": {
    "ExecuteTime": {
     "end_time": "2024-11-26T12:15:53.643922Z",
     "start_time": "2024-11-26T12:15:53.633294Z"
    }
   },
   "cell_type": "code",
   "source": [
    "# 15. Perform Statistical Analysis\n",
    "# Perform one-way ANOVA\n",
    "F_statistic, p_value = f_oneway(bridge_spread_sizes, high_degree_spread_sizes, random_spread_sizes)\n",
    "print(\"ANOVA results:\")\n",
    "print(f\"F-statistic: {F_statistic:.4f}, p-value: {p_value:.4f}\")\n",
    "\n",
    "# T-tests\n",
    "t_statistic1, p_value1 = ttest_ind(bridge_spread_sizes, high_degree_spread_sizes, equal_var=False)\n",
    "print(\"\\nT-test between bridge nodes and high-degree nodes not in HCC:\")\n",
    "print(f\"t-statistic: {t_statistic1:.4f}, p-value: {p_value1:.4f}\")\n",
    "\n",
    "t_statistic2, p_value2 = ttest_ind(bridge_spread_sizes, random_spread_sizes, equal_var=False)\n",
    "print(\"\\nT-test between bridge nodes and random nodes:\")\n",
    "print(f\"t-statistic: {t_statistic2:.4f}, p-value: {p_value2:.4f}\")\n",
    "\n",
    "t_statistic3, p_value3 = ttest_ind(high_degree_spread_sizes, random_spread_sizes, equal_var=False)\n",
    "print(\"\\nT-test between high-degree nodes not in HCC and random nodes:\")\n",
    "print(f\"t-statistic: {t_statistic3:.4f}, p-value: {p_value3:.4f}\")"
   ],
   "id": "9f191aeeeea8a22b",
   "outputs": [
    {
     "name": "stdout",
     "output_type": "stream",
     "text": [
      "ANOVA results:\n",
      "F-statistic: 1137.3590, p-value: 0.0000\n",
      "\n",
      "T-test between bridge nodes and high-degree nodes not in HCC:\n",
      "t-statistic: -0.4403, p-value: 0.6601\n",
      "\n",
      "T-test between bridge nodes and random nodes:\n",
      "t-statistic: 46.3708, p-value: 0.0000\n",
      "\n",
      "T-test between high-degree nodes not in HCC and random nodes:\n",
      "t-statistic: 33.8594, p-value: 0.0000\n"
     ]
    }
   ],
   "execution_count": 18
  },
  {
   "metadata": {
    "ExecuteTime": {
     "end_time": "2024-11-26T12:15:55.294920Z",
     "start_time": "2024-11-26T12:15:55.288125Z"
    }
   },
   "cell_type": "code",
   "source": [
    "# 16. Print Spread Statistics for Each Group\n",
    "def print_spread_statistics(spread_sizes: List[int], group_name: str):\n",
    "    print(f\"\\n--- Spread Statistics for {group_name} ---\")\n",
    "    print(f\"Average Spread Size: {np.mean(spread_sizes):.2f}\")\n",
    "    print(f\"Median Spread Size: {np.median(spread_sizes):.2f}\")\n",
    "    print(f\"Standard Deviation: {np.std(spread_sizes):.2f}\")\n",
    "    print(f\"Minimum Spread Size: {np.min(spread_sizes)}\")\n",
    "    print(f\"Maximum Spread Size: {np.max(spread_sizes)}\")\n",
    "\n",
    "print_spread_statistics(bridge_spread_sizes, \"Bridge Nodes\")\n",
    "print_spread_statistics(high_degree_spread_sizes, \"High-Degree Nodes Not in HCC\")\n",
    "print_spread_statistics(random_spread_sizes, \"Random Nodes\")"
   ],
   "id": "49cfdc4949bb2e1e",
   "outputs": [
    {
     "name": "stdout",
     "output_type": "stream",
     "text": [
      "\n",
      "--- Spread Statistics for Bridge Nodes ---\n",
      "Average Spread Size: 138.35\n",
      "Median Spread Size: 140.00\n",
      "Standard Deviation: 17.32\n",
      "Minimum Spread Size: 1\n",
      "Maximum Spread Size: 180\n",
      "\n",
      "--- Spread Statistics for High-Degree Nodes Not in HCC ---\n",
      "Average Spread Size: 138.91\n",
      "Median Spread Size: 141.00\n",
      "Standard Deviation: 17.24\n",
      "Minimum Spread Size: 2\n",
      "Maximum Spread Size: 185\n",
      "\n",
      "--- Spread Statistics for Random Nodes ---\n",
      "Average Spread Size: 80.83\n",
      "Median Spread Size: 129.00\n",
      "Standard Deviation: 69.12\n",
      "Minimum Spread Size: 1\n",
      "Maximum Spread Size: 179\n"
     ]
    }
   ],
   "execution_count": 19
  },
  {
   "metadata": {
    "ExecuteTime": {
     "end_time": "2024-11-26T12:18:41.239864Z",
     "start_time": "2024-11-26T12:18:41.157608Z"
    }
   },
   "cell_type": "code",
   "source": [
    "# 17. Visualize the Results\n",
    "\n",
    "# Boxplot of spread sizes\n",
    "data = [bridge_spread_sizes, high_degree_spread_sizes, random_spread_sizes]\n",
    "labels = ['Bridge Nodes', 'High-Degree Nodes Not in HCC', 'Random Nodes']\n",
    "\n",
    "plt.boxplot(data, labels=labels)\n",
    "plt.ylabel('Spread Size')\n",
    "plt.title('Spread Size Distribution by Node Group')\n",
    "plt.show()"
   ],
   "id": "bc2ed3b7294b030c",
   "outputs": [
    {
     "name": "stderr",
     "output_type": "stream",
     "text": [
      "C:\\Users\\KAMALA\\AppData\\Local\\Temp\\ipykernel_15916\\3430045800.py:7: MatplotlibDeprecationWarning: The 'labels' parameter of boxplot() has been renamed 'tick_labels' since Matplotlib 3.9; support for the old name will be dropped in 3.11.\n",
      "  plt.boxplot(data, labels=labels)\n"
     ]
    },
    {
     "data": {
      "text/plain": [
       "<Figure size 640x480 with 1 Axes>"
      ],
      "image/png": "[encoded data removed]"
     },
     "metadata": {},
     "output_type": "display_data"
    }
   ],
   "execution_count": 22
  }
 ],
 "metadata": {
  "kernelspec": {
   "display_name": "Python 3",
   "language": "python",
   "name": "python3"
  },
  "language_info": {
   "codemirror_mode": {
    "name": "ipython",
    "version": 2
   },
   "file_extension": ".py",
   "mimetype": "text/x-python",
   "name": "python",
   "nbconvert_exporter": "python",
   "pygments_lexer": "ipython2",
   "version": "2.7.6"
  }
 },
 "nbformat": 4,
 "nbformat_minor": 5
}
